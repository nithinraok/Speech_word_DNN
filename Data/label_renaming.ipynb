{
 "cells": [
  {
   "cell_type": "code",
   "execution_count": 1,
   "metadata": {},
   "outputs": [
    {
     "name": "stdout",
     "output_type": "stream",
     "text": [
      "/Users/nithin_rao/MyFiles/Work/Data/audio/csvs\r\n"
     ]
    }
   ],
   "source": [
    "!pwd"
   ]
  },
  {
   "cell_type": "code",
   "execution_count": 2,
   "metadata": {},
   "outputs": [
    {
     "name": "stdout",
     "output_type": "stream",
     "text": [
      "{'bed': 0, 'bird': 1, 'cat': 2, 'dog': 3, 'down': 4, 'eight': 5, 'five': 6, 'four': 7, 'go': 8, 'happy': 9, 'house': 10, 'left': 11, 'marvin': 12, 'nine': 13, 'no': 14, 'off': 15, 'on': 16, 'one': 17, 'right': 18, 'seven': 19, 'sheila': 20, 'six': 21, 'stop': 22, 'three': 23, 'tree': 24, 'two': 25, 'up': 26, 'wow': 27, 'yes': 28, 'zero': 29}\n"
     ]
    }
   ],
   "source": [
    "categories = !ls ../train/ | sort -u\n",
    "categories=categories[1:]\n",
    "category_dict={cat:i for i,cat in enumerate(categories)}\n",
    "print(category_dict)"
   ]
  },
  {
   "cell_type": "code",
   "execution_count": 6,
   "metadata": {},
   "outputs": [],
   "source": [
    "#!cp train.csv tt.csv"
   ]
  },
  {
   "cell_type": "code",
   "execution_count": 35,
   "metadata": {},
   "outputs": [],
   "source": [
    "filenames=!ls *.csv"
   ]
  },
  {
   "cell_type": "code",
   "execution_count": 37,
   "metadata": {},
   "outputs": [
    {
     "data": {
      "text/plain": [
       "['test.csv', 'train.csv', 'valid.csv']"
      ]
     },
     "execution_count": 37,
     "metadata": {},
     "output_type": "execute_result"
    }
   ],
   "source": [
    "filenames"
   ]
  },
  {
   "cell_type": "code",
   "execution_count": 43,
   "metadata": {},
   "outputs": [
    {
     "name": "stdout",
     "output_type": "stream",
     "text": [
      "s/,bed/,0/g\n",
      "s/,bird/,1/g\n",
      "s/,cat/,2/g\n",
      "s/,dog/,3/g\n",
      "s/,down/,4/g\n",
      "s/,eight/,5/g\n",
      "s/,five/,6/g\n",
      "s/,four/,7/g\n",
      "s/,go/,8/g\n",
      "s/,happy/,9/g\n",
      "s/,house/,10/g\n",
      "s/,left/,11/g\n",
      "s/,marvin/,12/g\n",
      "s/,nine/,13/g\n",
      "s/,off/,15/g\n",
      "s/,one/,17/g\n",
      "s/,right/,18/g\n",
      "s/,seven/,19/g\n",
      "s/,sheila/,20/g\n",
      "s/,six/,21/g\n",
      "s/,stop/,22/g\n",
      "s/,three/,23/g\n",
      "s/,tree/,24/g\n",
      "s/,two/,25/g\n",
      "s/,up/,26/g\n",
      "s/,wow/,27/g\n",
      "s/,yes/,28/g\n",
      "s/,zero/,29/g\n",
      "s/,bed/,0/g\n",
      "s/,bird/,1/g\n",
      "s/,cat/,2/g\n",
      "s/,dog/,3/g\n",
      "s/,down/,4/g\n",
      "s/,eight/,5/g\n",
      "s/,five/,6/g\n",
      "s/,four/,7/g\n",
      "s/,go/,8/g\n",
      "s/,happy/,9/g\n",
      "s/,house/,10/g\n",
      "s/,left/,11/g\n",
      "s/,marvin/,12/g\n",
      "s/,nine/,13/g\n",
      "s/,off/,15/g\n",
      "s/,one/,17/g\n",
      "s/,right/,18/g\n",
      "s/,seven/,19/g\n",
      "s/,sheila/,20/g\n",
      "s/,six/,21/g\n",
      "s/,stop/,22/g\n",
      "s/,three/,23/g\n",
      "s/,tree/,24/g\n",
      "s/,two/,25/g\n",
      "s/,up/,26/g\n",
      "s/,wow/,27/g\n",
      "s/,yes/,28/g\n",
      "s/,zero/,29/g\n"
     ]
    }
   ],
   "source": [
    "for file in filenames[1:]:\n",
    "    for item,d in category_dict.items():\n",
    "        string = 's/,{}/,{}/g'.format(item,d)    \n",
    "        if d!=14 and d!=16: \n",
    "            print(string)\n",
    "            !sed -i '' $string $file\n",
    "    \n",
    "    !sed -i '' 's/,no/,14/1' $file\n",
    "    !sed -i '' 's/,on/,16/1' $file"
   ]
  },
  {
   "cell_type": "code",
   "execution_count": 45,
   "metadata": {},
   "outputs": [
    {
     "name": "stdout",
     "output_type": "stream",
     "text": [
      "s/,bed/,0/g\n",
      "s/,bird/,1/g\n",
      "s/,cat/,2/g\n",
      "s/,dog/,3/g\n",
      "s/,down/,4/g\n",
      "s/,eight/,5/g\n",
      "s/,five/,6/g\n",
      "s/,four/,7/g\n",
      "s/,go/,8/g\n",
      "s/,happy/,9/g\n",
      "s/,house/,10/g\n",
      "s/,left/,11/g\n",
      "s/,marvin/,12/g\n",
      "s/,nine/,13/g\n",
      "s/,off/,15/g\n",
      "s/,one/,17/g\n",
      "s/,right/,18/g\n",
      "s/,seven/,19/g\n",
      "s/,sheila/,20/g\n",
      "s/,six/,21/g\n",
      "s/,stop/,22/g\n",
      "s/,three/,23/g\n",
      "s/,tree/,24/g\n",
      "s/,two/,25/g\n",
      "s/,up/,26/g\n",
      "s/,wow/,27/g\n",
      "s/,yes/,28/g\n",
      "s/,zero/,29/g\n"
     ]
    }
   ],
   "source": [
    "file='test.csv'\n",
    "for item,d in category_dict.items():\n",
    "    string = 's/,{}/,{}/g'.format(item,d)    \n",
    "    if d!=14 and d!=16: \n",
    "        print(string)\n",
    "        !sed -i '' $string $file\n",
    "\n",
    "!sed -i '' 's/,no/,14/1' $file\n",
    "!sed -i '' 's/,on/,16/1' $file"
   ]
  },
  {
   "cell_type": "code",
   "execution_count": null,
   "metadata": {},
   "outputs": [],
   "source": []
  }
 ],
 "metadata": {
  "kernelspec": {
   "display_name": "Python 3",
   "language": "python",
   "name": "python3"
  },
  "language_info": {
   "codemirror_mode": {
    "name": "ipython",
    "version": 3
   },
   "file_extension": ".py",
   "mimetype": "text/x-python",
   "name": "python",
   "nbconvert_exporter": "python",
   "pygments_lexer": "ipython3",
   "version": "3.6.3"
  }
 },
 "nbformat": 4,
 "nbformat_minor": 2
}
